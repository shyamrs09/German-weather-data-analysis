{
  "nbformat": 4,
  "nbformat_minor": 0,
  "metadata": {
    "colab": {
      "name": "Fraunhofer_assignment.ipynb",
      "provenance": [],
      "collapsed_sections": []
    },
    "kernelspec": {
      "name": "python3",
      "display_name": "Python 3"
    },
    "language_info": {
      "name": "python"
    }
  },
  "cells": [
    {
      "cell_type": "code",
      "metadata": {
        "id": "fWBpbvdlS8AW"
      },
      "source": [
        "#importing neecessary libraries\n",
        "import pandas as pd\n",
        "from google.colab import drive\n",
        "from google.colab import files\n",
        "import os\n"
      ],
      "execution_count": null,
      "outputs": []
    },
    {
      "cell_type": "code",
      "metadata": {
        "colab": {
          "base_uri": "https://localhost:8080/"
        },
        "id": "vn4yNq7HS9Oh",
        "outputId": "20f84daf-893a-420b-a247-b7acf0e9a44a"
      },
      "source": [
        "drive.mount(\"/content/drive\")\n"
      ],
      "execution_count": null,
      "outputs": [
        {
          "output_type": "stream",
          "text": [
            "Drive already mounted at /content/drive; to attempt to forcibly remount, call drive.mount(\"/content/drive\", force_remount=True).\n"
          ],
          "name": "stdout"
        }
      ]
    },
    {
      "cell_type": "code",
      "metadata": {
        "id": "nIRFjuNyTKGg"
      },
      "source": [
        "df = pd.read_csv(\"drive/My Drive/Colab Notebooks/temperatures.csv\")"
      ],
      "execution_count": null,
      "outputs": []
    },
    {
      "cell_type": "code",
      "metadata": {
        "id": "9ospcsrRT-nx"
      },
      "source": [
        "# rename all columns to english\n",
        "df.rename(columns={'Produkt_Code':'Product code','SDO_ID':'SDO_ID','Zeitstempel':'time stamp','Wert':'value','Qualitaet_Niveau':'Quality_level','Qualitaet_Byte':'Quality_Byte'},inplace = True)"
      ],
      "execution_count": null,
      "outputs": []
    },
    {
      "cell_type": "code",
      "metadata": {
        "colab": {
          "base_uri": "https://localhost:8080/",
          "height": 417
        },
        "id": "mlhXHAQET44w",
        "outputId": "77e91558-2e11-4078-8bfa-f31b517b83e2"
      },
      "source": [
        "df"
      ],
      "execution_count": null,
      "outputs": [
        {
          "output_type": "execute_result",
          "data": {
            "text/html": [
              "<div>\n",
              "<style scoped>\n",
              "    .dataframe tbody tr th:only-of-type {\n",
              "        vertical-align: middle;\n",
              "    }\n",
              "\n",
              "    .dataframe tbody tr th {\n",
              "        vertical-align: top;\n",
              "    }\n",
              "\n",
              "    .dataframe thead th {\n",
              "        text-align: right;\n",
              "    }\n",
              "</style>\n",
              "<table border=\"1\" class=\"dataframe\">\n",
              "  <thead>\n",
              "    <tr style=\"text-align: right;\">\n",
              "      <th></th>\n",
              "      <th>Product code</th>\n",
              "      <th>SDO_ID</th>\n",
              "      <th>time stamp</th>\n",
              "      <th>value</th>\n",
              "      <th>Quality_level</th>\n",
              "      <th>Quality_Byte</th>\n",
              "    </tr>\n",
              "  </thead>\n",
              "  <tbody>\n",
              "    <tr>\n",
              "      <th>0</th>\n",
              "      <td>TT_TU_MN009</td>\n",
              "      <td>2014</td>\n",
              "      <td>201501010000</td>\n",
              "      <td>3.4</td>\n",
              "      <td>7</td>\n",
              "      <td>6</td>\n",
              "    </tr>\n",
              "    <tr>\n",
              "      <th>1</th>\n",
              "      <td>TT_TU_MN009</td>\n",
              "      <td>2014</td>\n",
              "      <td>201501010100</td>\n",
              "      <td>3.1</td>\n",
              "      <td>7</td>\n",
              "      <td>6</td>\n",
              "    </tr>\n",
              "    <tr>\n",
              "      <th>2</th>\n",
              "      <td>TT_TU_MN009</td>\n",
              "      <td>2014</td>\n",
              "      <td>201501010200</td>\n",
              "      <td>2.6</td>\n",
              "      <td>7</td>\n",
              "      <td>1</td>\n",
              "    </tr>\n",
              "    <tr>\n",
              "      <th>3</th>\n",
              "      <td>TT_TU_MN009</td>\n",
              "      <td>2014</td>\n",
              "      <td>201501010300</td>\n",
              "      <td>2.8</td>\n",
              "      <td>7</td>\n",
              "      <td>1</td>\n",
              "    </tr>\n",
              "    <tr>\n",
              "      <th>4</th>\n",
              "      <td>TT_TU_MN009</td>\n",
              "      <td>2014</td>\n",
              "      <td>201501010400</td>\n",
              "      <td>2.5</td>\n",
              "      <td>7</td>\n",
              "      <td>1</td>\n",
              "    </tr>\n",
              "    <tr>\n",
              "      <th>...</th>\n",
              "      <td>...</td>\n",
              "      <td>...</td>\n",
              "      <td>...</td>\n",
              "      <td>...</td>\n",
              "      <td>...</td>\n",
              "      <td>...</td>\n",
              "    </tr>\n",
              "    <tr>\n",
              "      <th>45163</th>\n",
              "      <td>TT_TU_MN009</td>\n",
              "      <td>2014</td>\n",
              "      <td>202002251900</td>\n",
              "      <td>5.3</td>\n",
              "      <td>0</td>\n",
              "      <td>1</td>\n",
              "    </tr>\n",
              "    <tr>\n",
              "      <th>45164</th>\n",
              "      <td>TT_TU_MN009</td>\n",
              "      <td>2014</td>\n",
              "      <td>202002252000</td>\n",
              "      <td>5.5</td>\n",
              "      <td>0</td>\n",
              "      <td>1</td>\n",
              "    </tr>\n",
              "    <tr>\n",
              "      <th>45165</th>\n",
              "      <td>TT_TU_MN009</td>\n",
              "      <td>2014</td>\n",
              "      <td>202002252100</td>\n",
              "      <td>5.4</td>\n",
              "      <td>0</td>\n",
              "      <td>1</td>\n",
              "    </tr>\n",
              "    <tr>\n",
              "      <th>45166</th>\n",
              "      <td>TT_TU_MN009</td>\n",
              "      <td>2014</td>\n",
              "      <td>202002252200</td>\n",
              "      <td>3.8</td>\n",
              "      <td>0</td>\n",
              "      <td>1</td>\n",
              "    </tr>\n",
              "    <tr>\n",
              "      <th>45167</th>\n",
              "      <td>TT_TU_MN009</td>\n",
              "      <td>2014</td>\n",
              "      <td>202002252300</td>\n",
              "      <td>3.6</td>\n",
              "      <td>0</td>\n",
              "      <td>1</td>\n",
              "    </tr>\n",
              "  </tbody>\n",
              "</table>\n",
              "<p>45168 rows × 6 columns</p>\n",
              "</div>"
            ],
            "text/plain": [
              "      Product code  SDO_ID    time stamp  value  Quality_level  Quality_Byte\n",
              "0      TT_TU_MN009    2014  201501010000    3.4              7             6\n",
              "1      TT_TU_MN009    2014  201501010100    3.1              7             6\n",
              "2      TT_TU_MN009    2014  201501010200    2.6              7             1\n",
              "3      TT_TU_MN009    2014  201501010300    2.8              7             1\n",
              "4      TT_TU_MN009    2014  201501010400    2.5              7             1\n",
              "...            ...     ...           ...    ...            ...           ...\n",
              "45163  TT_TU_MN009    2014  202002251900    5.3              0             1\n",
              "45164  TT_TU_MN009    2014  202002252000    5.5              0             1\n",
              "45165  TT_TU_MN009    2014  202002252100    5.4              0             1\n",
              "45166  TT_TU_MN009    2014  202002252200    3.8              0             1\n",
              "45167  TT_TU_MN009    2014  202002252300    3.6              0             1\n",
              "\n",
              "[45168 rows x 6 columns]"
            ]
          },
          "metadata": {
            "tags": []
          },
          "execution_count": 5
        }
      ]
    },
    {
      "cell_type": "code",
      "metadata": {
        "colab": {
          "base_uri": "https://localhost:8080/"
        },
        "id": "cGASVqwSW8d7",
        "outputId": "3f8ab93d-bbc2-41a2-8cda-b5bd61ccbe2f"
      },
      "source": [
        "#To get the unique values in that sdo column\n",
        "df['SDO_ID'].unique()"
      ],
      "execution_count": null,
      "outputs": [
        {
          "output_type": "execute_result",
          "data": {
            "text/plain": [
              "array([2014])"
            ]
          },
          "metadata": {
            "tags": []
          },
          "execution_count": 7
        }
      ]
    },
    {
      "cell_type": "code",
      "metadata": {
        "colab": {
          "base_uri": "https://localhost:8080/"
        },
        "id": "zhruJCJcUigc",
        "outputId": "41f612ab-9061-438e-98c5-22ae733f412d"
      },
      "source": [
        "# list each column data type\n",
        "df.dtypes"
      ],
      "execution_count": null,
      "outputs": [
        {
          "output_type": "execute_result",
          "data": {
            "text/plain": [
              "Product code      object\n",
              "SDO_ID             int64\n",
              "time stamp         int64\n",
              "value            float64\n",
              "Quality_level      int64\n",
              "Quality_Byte       int64\n",
              "dtype: object"
            ]
          },
          "metadata": {
            "tags": []
          },
          "execution_count": 8
        }
      ]
    },
    {
      "cell_type": "code",
      "metadata": {
        "id": "dQyAz10yU3C5"
      },
      "source": [
        "# convert datetime from float to yyyymmddhhmm format\n",
        "# df['time stamp']= pd.to_datetime(df['time stamp'])\n",
        "import datetime, time\n",
        "\n",
        "df['time stamp'] = pd.to_datetime(df['time stamp'], format='%Y%m%d%H%M')"
      ],
      "execution_count": null,
      "outputs": []
    },
    {
      "cell_type": "code",
      "metadata": {
        "colab": {
          "base_uri": "https://localhost:8080/",
          "height": 417
        },
        "id": "5pwQwN_UVdzh",
        "outputId": "ddb72811-7db6-4f76-bc5b-e57ca8194130"
      },
      "source": [
        "df"
      ],
      "execution_count": null,
      "outputs": [
        {
          "output_type": "execute_result",
          "data": {
            "text/html": [
              "<div>\n",
              "<style scoped>\n",
              "    .dataframe tbody tr th:only-of-type {\n",
              "        vertical-align: middle;\n",
              "    }\n",
              "\n",
              "    .dataframe tbody tr th {\n",
              "        vertical-align: top;\n",
              "    }\n",
              "\n",
              "    .dataframe thead th {\n",
              "        text-align: right;\n",
              "    }\n",
              "</style>\n",
              "<table border=\"1\" class=\"dataframe\">\n",
              "  <thead>\n",
              "    <tr style=\"text-align: right;\">\n",
              "      <th></th>\n",
              "      <th>Product code</th>\n",
              "      <th>SDO_ID</th>\n",
              "      <th>time stamp</th>\n",
              "      <th>value</th>\n",
              "      <th>Quality_level</th>\n",
              "      <th>Quality_Byte</th>\n",
              "    </tr>\n",
              "  </thead>\n",
              "  <tbody>\n",
              "    <tr>\n",
              "      <th>0</th>\n",
              "      <td>TT_TU_MN009</td>\n",
              "      <td>2014</td>\n",
              "      <td>2015-01-01 00:00:00</td>\n",
              "      <td>3.4</td>\n",
              "      <td>7</td>\n",
              "      <td>6</td>\n",
              "    </tr>\n",
              "    <tr>\n",
              "      <th>1</th>\n",
              "      <td>TT_TU_MN009</td>\n",
              "      <td>2014</td>\n",
              "      <td>2015-01-01 01:00:00</td>\n",
              "      <td>3.1</td>\n",
              "      <td>7</td>\n",
              "      <td>6</td>\n",
              "    </tr>\n",
              "    <tr>\n",
              "      <th>2</th>\n",
              "      <td>TT_TU_MN009</td>\n",
              "      <td>2014</td>\n",
              "      <td>2015-01-01 02:00:00</td>\n",
              "      <td>2.6</td>\n",
              "      <td>7</td>\n",
              "      <td>1</td>\n",
              "    </tr>\n",
              "    <tr>\n",
              "      <th>3</th>\n",
              "      <td>TT_TU_MN009</td>\n",
              "      <td>2014</td>\n",
              "      <td>2015-01-01 03:00:00</td>\n",
              "      <td>2.8</td>\n",
              "      <td>7</td>\n",
              "      <td>1</td>\n",
              "    </tr>\n",
              "    <tr>\n",
              "      <th>4</th>\n",
              "      <td>TT_TU_MN009</td>\n",
              "      <td>2014</td>\n",
              "      <td>2015-01-01 04:00:00</td>\n",
              "      <td>2.5</td>\n",
              "      <td>7</td>\n",
              "      <td>1</td>\n",
              "    </tr>\n",
              "    <tr>\n",
              "      <th>...</th>\n",
              "      <td>...</td>\n",
              "      <td>...</td>\n",
              "      <td>...</td>\n",
              "      <td>...</td>\n",
              "      <td>...</td>\n",
              "      <td>...</td>\n",
              "    </tr>\n",
              "    <tr>\n",
              "      <th>45163</th>\n",
              "      <td>TT_TU_MN009</td>\n",
              "      <td>2014</td>\n",
              "      <td>2020-02-25 19:00:00</td>\n",
              "      <td>5.3</td>\n",
              "      <td>0</td>\n",
              "      <td>1</td>\n",
              "    </tr>\n",
              "    <tr>\n",
              "      <th>45164</th>\n",
              "      <td>TT_TU_MN009</td>\n",
              "      <td>2014</td>\n",
              "      <td>2020-02-25 20:00:00</td>\n",
              "      <td>5.5</td>\n",
              "      <td>0</td>\n",
              "      <td>1</td>\n",
              "    </tr>\n",
              "    <tr>\n",
              "      <th>45165</th>\n",
              "      <td>TT_TU_MN009</td>\n",
              "      <td>2014</td>\n",
              "      <td>2020-02-25 21:00:00</td>\n",
              "      <td>5.4</td>\n",
              "      <td>0</td>\n",
              "      <td>1</td>\n",
              "    </tr>\n",
              "    <tr>\n",
              "      <th>45166</th>\n",
              "      <td>TT_TU_MN009</td>\n",
              "      <td>2014</td>\n",
              "      <td>2020-02-25 22:00:00</td>\n",
              "      <td>3.8</td>\n",
              "      <td>0</td>\n",
              "      <td>1</td>\n",
              "    </tr>\n",
              "    <tr>\n",
              "      <th>45167</th>\n",
              "      <td>TT_TU_MN009</td>\n",
              "      <td>2014</td>\n",
              "      <td>2020-02-25 23:00:00</td>\n",
              "      <td>3.6</td>\n",
              "      <td>0</td>\n",
              "      <td>1</td>\n",
              "    </tr>\n",
              "  </tbody>\n",
              "</table>\n",
              "<p>45168 rows × 6 columns</p>\n",
              "</div>"
            ],
            "text/plain": [
              "      Product code  SDO_ID  ... Quality_level  Quality_Byte\n",
              "0      TT_TU_MN009    2014  ...             7             6\n",
              "1      TT_TU_MN009    2014  ...             7             6\n",
              "2      TT_TU_MN009    2014  ...             7             1\n",
              "3      TT_TU_MN009    2014  ...             7             1\n",
              "4      TT_TU_MN009    2014  ...             7             1\n",
              "...            ...     ...  ...           ...           ...\n",
              "45163  TT_TU_MN009    2014  ...             0             1\n",
              "45164  TT_TU_MN009    2014  ...             0             1\n",
              "45165  TT_TU_MN009    2014  ...             0             1\n",
              "45166  TT_TU_MN009    2014  ...             0             1\n",
              "45167  TT_TU_MN009    2014  ...             0             1\n",
              "\n",
              "[45168 rows x 6 columns]"
            ]
          },
          "metadata": {
            "tags": []
          },
          "execution_count": 10
        }
      ]
    },
    {
      "cell_type": "code",
      "metadata": {
        "id": "U_-KnL6dbmkU"
      },
      "source": [
        "# extract year for each row from time stamp, apply is used to repeat the function defined using lambda for each row in a dataframe\n",
        "df['year'] = df.apply(lambda x:x['time stamp'].year,axis=1)"
      ],
      "execution_count": null,
      "outputs": []
    },
    {
      "cell_type": "code",
      "metadata": {
        "colab": {
          "base_uri": "https://localhost:8080/",
          "height": 447
        },
        "id": "Xgf2Ql8oX8qq",
        "outputId": "4da06596-1275-4ccd-d3ef-118032aeda6c"
      },
      "source": [
        "# resampling hourly data to 15 min interval\n",
        "df1 = df.resample('15Min',on='time stamp').mean()\n",
        "df1"
      ],
      "execution_count": null,
      "outputs": [
        {
          "output_type": "execute_result",
          "data": {
            "text/html": [
              "<div>\n",
              "<style scoped>\n",
              "    .dataframe tbody tr th:only-of-type {\n",
              "        vertical-align: middle;\n",
              "    }\n",
              "\n",
              "    .dataframe tbody tr th {\n",
              "        vertical-align: top;\n",
              "    }\n",
              "\n",
              "    .dataframe thead th {\n",
              "        text-align: right;\n",
              "    }\n",
              "</style>\n",
              "<table border=\"1\" class=\"dataframe\">\n",
              "  <thead>\n",
              "    <tr style=\"text-align: right;\">\n",
              "      <th></th>\n",
              "      <th>SDO_ID</th>\n",
              "      <th>value</th>\n",
              "      <th>Quality_level</th>\n",
              "      <th>Quality_Byte</th>\n",
              "      <th>year</th>\n",
              "    </tr>\n",
              "    <tr>\n",
              "      <th>time stamp</th>\n",
              "      <th></th>\n",
              "      <th></th>\n",
              "      <th></th>\n",
              "      <th></th>\n",
              "      <th></th>\n",
              "    </tr>\n",
              "  </thead>\n",
              "  <tbody>\n",
              "    <tr>\n",
              "      <th>2015-01-01 00:00:00</th>\n",
              "      <td>2014.0</td>\n",
              "      <td>3.4</td>\n",
              "      <td>7.0</td>\n",
              "      <td>6.0</td>\n",
              "      <td>2015.0</td>\n",
              "    </tr>\n",
              "    <tr>\n",
              "      <th>2015-01-01 00:15:00</th>\n",
              "      <td>NaN</td>\n",
              "      <td>NaN</td>\n",
              "      <td>NaN</td>\n",
              "      <td>NaN</td>\n",
              "      <td>NaN</td>\n",
              "    </tr>\n",
              "    <tr>\n",
              "      <th>2015-01-01 00:30:00</th>\n",
              "      <td>NaN</td>\n",
              "      <td>NaN</td>\n",
              "      <td>NaN</td>\n",
              "      <td>NaN</td>\n",
              "      <td>NaN</td>\n",
              "    </tr>\n",
              "    <tr>\n",
              "      <th>2015-01-01 00:45:00</th>\n",
              "      <td>NaN</td>\n",
              "      <td>NaN</td>\n",
              "      <td>NaN</td>\n",
              "      <td>NaN</td>\n",
              "      <td>NaN</td>\n",
              "    </tr>\n",
              "    <tr>\n",
              "      <th>2015-01-01 01:00:00</th>\n",
              "      <td>2014.0</td>\n",
              "      <td>3.1</td>\n",
              "      <td>7.0</td>\n",
              "      <td>6.0</td>\n",
              "      <td>2015.0</td>\n",
              "    </tr>\n",
              "    <tr>\n",
              "      <th>...</th>\n",
              "      <td>...</td>\n",
              "      <td>...</td>\n",
              "      <td>...</td>\n",
              "      <td>...</td>\n",
              "      <td>...</td>\n",
              "    </tr>\n",
              "    <tr>\n",
              "      <th>2020-02-25 22:00:00</th>\n",
              "      <td>2014.0</td>\n",
              "      <td>3.8</td>\n",
              "      <td>0.0</td>\n",
              "      <td>1.0</td>\n",
              "      <td>2020.0</td>\n",
              "    </tr>\n",
              "    <tr>\n",
              "      <th>2020-02-25 22:15:00</th>\n",
              "      <td>NaN</td>\n",
              "      <td>NaN</td>\n",
              "      <td>NaN</td>\n",
              "      <td>NaN</td>\n",
              "      <td>NaN</td>\n",
              "    </tr>\n",
              "    <tr>\n",
              "      <th>2020-02-25 22:30:00</th>\n",
              "      <td>NaN</td>\n",
              "      <td>NaN</td>\n",
              "      <td>NaN</td>\n",
              "      <td>NaN</td>\n",
              "      <td>NaN</td>\n",
              "    </tr>\n",
              "    <tr>\n",
              "      <th>2020-02-25 22:45:00</th>\n",
              "      <td>NaN</td>\n",
              "      <td>NaN</td>\n",
              "      <td>NaN</td>\n",
              "      <td>NaN</td>\n",
              "      <td>NaN</td>\n",
              "    </tr>\n",
              "    <tr>\n",
              "      <th>2020-02-25 23:00:00</th>\n",
              "      <td>2014.0</td>\n",
              "      <td>3.6</td>\n",
              "      <td>0.0</td>\n",
              "      <td>1.0</td>\n",
              "      <td>2020.0</td>\n",
              "    </tr>\n",
              "  </tbody>\n",
              "</table>\n",
              "<p>180669 rows × 5 columns</p>\n",
              "</div>"
            ],
            "text/plain": [
              "                     SDO_ID  value  Quality_level  Quality_Byte    year\n",
              "time stamp                                                             \n",
              "2015-01-01 00:00:00  2014.0    3.4            7.0           6.0  2015.0\n",
              "2015-01-01 00:15:00     NaN    NaN            NaN           NaN     NaN\n",
              "2015-01-01 00:30:00     NaN    NaN            NaN           NaN     NaN\n",
              "2015-01-01 00:45:00     NaN    NaN            NaN           NaN     NaN\n",
              "2015-01-01 01:00:00  2014.0    3.1            7.0           6.0  2015.0\n",
              "...                     ...    ...            ...           ...     ...\n",
              "2020-02-25 22:00:00  2014.0    3.8            0.0           1.0  2020.0\n",
              "2020-02-25 22:15:00     NaN    NaN            NaN           NaN     NaN\n",
              "2020-02-25 22:30:00     NaN    NaN            NaN           NaN     NaN\n",
              "2020-02-25 22:45:00     NaN    NaN            NaN           NaN     NaN\n",
              "2020-02-25 23:00:00  2014.0    3.6            0.0           1.0  2020.0\n",
              "\n",
              "[180669 rows x 5 columns]"
            ]
          },
          "metadata": {
            "tags": []
          },
          "execution_count": 12
        }
      ]
    },
    {
      "cell_type": "code",
      "metadata": {
        "id": "amR48kOObAS_"
      },
      "source": [
        "#using interpolation method linear since the temperature trend over the months has been gradual to fill the NaN temperature values\n",
        "df1['value'] = df1['value'].interpolate(method ='linear', limit_direction ='forward')"
      ],
      "execution_count": null,
      "outputs": []
    },
    {
      "cell_type": "code",
      "metadata": {
        "colab": {
          "base_uri": "https://localhost:8080/",
          "height": 447
        },
        "id": "4MOSRyeIbenf",
        "outputId": "a80979f1-1aa7-4444-a64a-a57a2ec07d18"
      },
      "source": [
        "df1"
      ],
      "execution_count": null,
      "outputs": [
        {
          "output_type": "execute_result",
          "data": {
            "text/html": [
              "<div>\n",
              "<style scoped>\n",
              "    .dataframe tbody tr th:only-of-type {\n",
              "        vertical-align: middle;\n",
              "    }\n",
              "\n",
              "    .dataframe tbody tr th {\n",
              "        vertical-align: top;\n",
              "    }\n",
              "\n",
              "    .dataframe thead th {\n",
              "        text-align: right;\n",
              "    }\n",
              "</style>\n",
              "<table border=\"1\" class=\"dataframe\">\n",
              "  <thead>\n",
              "    <tr style=\"text-align: right;\">\n",
              "      <th></th>\n",
              "      <th>SDO_ID</th>\n",
              "      <th>value</th>\n",
              "      <th>Quality_level</th>\n",
              "      <th>Quality_Byte</th>\n",
              "      <th>year</th>\n",
              "    </tr>\n",
              "    <tr>\n",
              "      <th>time stamp</th>\n",
              "      <th></th>\n",
              "      <th></th>\n",
              "      <th></th>\n",
              "      <th></th>\n",
              "      <th></th>\n",
              "    </tr>\n",
              "  </thead>\n",
              "  <tbody>\n",
              "    <tr>\n",
              "      <th>2015-01-01 00:00:00</th>\n",
              "      <td>2014.0</td>\n",
              "      <td>3.400</td>\n",
              "      <td>7.0</td>\n",
              "      <td>6.0</td>\n",
              "      <td>2015.0</td>\n",
              "    </tr>\n",
              "    <tr>\n",
              "      <th>2015-01-01 00:15:00</th>\n",
              "      <td>NaN</td>\n",
              "      <td>3.325</td>\n",
              "      <td>NaN</td>\n",
              "      <td>NaN</td>\n",
              "      <td>NaN</td>\n",
              "    </tr>\n",
              "    <tr>\n",
              "      <th>2015-01-01 00:30:00</th>\n",
              "      <td>NaN</td>\n",
              "      <td>3.250</td>\n",
              "      <td>NaN</td>\n",
              "      <td>NaN</td>\n",
              "      <td>NaN</td>\n",
              "    </tr>\n",
              "    <tr>\n",
              "      <th>2015-01-01 00:45:00</th>\n",
              "      <td>NaN</td>\n",
              "      <td>3.175</td>\n",
              "      <td>NaN</td>\n",
              "      <td>NaN</td>\n",
              "      <td>NaN</td>\n",
              "    </tr>\n",
              "    <tr>\n",
              "      <th>2015-01-01 01:00:00</th>\n",
              "      <td>2014.0</td>\n",
              "      <td>3.100</td>\n",
              "      <td>7.0</td>\n",
              "      <td>6.0</td>\n",
              "      <td>2015.0</td>\n",
              "    </tr>\n",
              "    <tr>\n",
              "      <th>...</th>\n",
              "      <td>...</td>\n",
              "      <td>...</td>\n",
              "      <td>...</td>\n",
              "      <td>...</td>\n",
              "      <td>...</td>\n",
              "    </tr>\n",
              "    <tr>\n",
              "      <th>2020-02-25 22:00:00</th>\n",
              "      <td>2014.0</td>\n",
              "      <td>3.800</td>\n",
              "      <td>0.0</td>\n",
              "      <td>1.0</td>\n",
              "      <td>2020.0</td>\n",
              "    </tr>\n",
              "    <tr>\n",
              "      <th>2020-02-25 22:15:00</th>\n",
              "      <td>NaN</td>\n",
              "      <td>3.750</td>\n",
              "      <td>NaN</td>\n",
              "      <td>NaN</td>\n",
              "      <td>NaN</td>\n",
              "    </tr>\n",
              "    <tr>\n",
              "      <th>2020-02-25 22:30:00</th>\n",
              "      <td>NaN</td>\n",
              "      <td>3.700</td>\n",
              "      <td>NaN</td>\n",
              "      <td>NaN</td>\n",
              "      <td>NaN</td>\n",
              "    </tr>\n",
              "    <tr>\n",
              "      <th>2020-02-25 22:45:00</th>\n",
              "      <td>NaN</td>\n",
              "      <td>3.650</td>\n",
              "      <td>NaN</td>\n",
              "      <td>NaN</td>\n",
              "      <td>NaN</td>\n",
              "    </tr>\n",
              "    <tr>\n",
              "      <th>2020-02-25 23:00:00</th>\n",
              "      <td>2014.0</td>\n",
              "      <td>3.600</td>\n",
              "      <td>0.0</td>\n",
              "      <td>1.0</td>\n",
              "      <td>2020.0</td>\n",
              "    </tr>\n",
              "  </tbody>\n",
              "</table>\n",
              "<p>180669 rows × 5 columns</p>\n",
              "</div>"
            ],
            "text/plain": [
              "                     SDO_ID  value  Quality_level  Quality_Byte    year\n",
              "time stamp                                                             \n",
              "2015-01-01 00:00:00  2014.0  3.400            7.0           6.0  2015.0\n",
              "2015-01-01 00:15:00     NaN  3.325            NaN           NaN     NaN\n",
              "2015-01-01 00:30:00     NaN  3.250            NaN           NaN     NaN\n",
              "2015-01-01 00:45:00     NaN  3.175            NaN           NaN     NaN\n",
              "2015-01-01 01:00:00  2014.0  3.100            7.0           6.0  2015.0\n",
              "...                     ...    ...            ...           ...     ...\n",
              "2020-02-25 22:00:00  2014.0  3.800            0.0           1.0  2020.0\n",
              "2020-02-25 22:15:00     NaN  3.750            NaN           NaN     NaN\n",
              "2020-02-25 22:30:00     NaN  3.700            NaN           NaN     NaN\n",
              "2020-02-25 22:45:00     NaN  3.650            NaN           NaN     NaN\n",
              "2020-02-25 23:00:00  2014.0  3.600            0.0           1.0  2020.0\n",
              "\n",
              "[180669 rows x 5 columns]"
            ]
          },
          "metadata": {
            "tags": []
          },
          "execution_count": 14
        }
      ]
    },
    {
      "cell_type": "code",
      "metadata": {
        "id": "SQYZX5XNbjX_"
      },
      "source": [
        "# using forward fill na to fill null values in year column, forward fill copies the value from previous row and puts in that particular row\n",
        "df1['year'] = df1['year'].fillna(method='ffill')"
      ],
      "execution_count": null,
      "outputs": []
    },
    {
      "cell_type": "code",
      "metadata": {
        "id": "K4ZIiMCud3YW"
      },
      "source": [
        "\n",
        "# copying the timestmap which is the index of the dataframe to a new column called Date\n",
        "df1['Date'] = df1.index"
      ],
      "execution_count": null,
      "outputs": []
    },
    {
      "cell_type": "code",
      "metadata": {
        "colab": {
          "base_uri": "https://localhost:8080/",
          "height": 447
        },
        "id": "QrFuXsxxd5eV",
        "outputId": "b81f2792-b15f-4897-febf-9292fee39e53"
      },
      "source": [
        "df1"
      ],
      "execution_count": null,
      "outputs": [
        {
          "output_type": "execute_result",
          "data": {
            "text/html": [
              "<div>\n",
              "<style scoped>\n",
              "    .dataframe tbody tr th:only-of-type {\n",
              "        vertical-align: middle;\n",
              "    }\n",
              "\n",
              "    .dataframe tbody tr th {\n",
              "        vertical-align: top;\n",
              "    }\n",
              "\n",
              "    .dataframe thead th {\n",
              "        text-align: right;\n",
              "    }\n",
              "</style>\n",
              "<table border=\"1\" class=\"dataframe\">\n",
              "  <thead>\n",
              "    <tr style=\"text-align: right;\">\n",
              "      <th></th>\n",
              "      <th>SDO_ID</th>\n",
              "      <th>value</th>\n",
              "      <th>Quality_level</th>\n",
              "      <th>Quality_Byte</th>\n",
              "      <th>year</th>\n",
              "      <th>Date</th>\n",
              "    </tr>\n",
              "    <tr>\n",
              "      <th>time stamp</th>\n",
              "      <th></th>\n",
              "      <th></th>\n",
              "      <th></th>\n",
              "      <th></th>\n",
              "      <th></th>\n",
              "      <th></th>\n",
              "    </tr>\n",
              "  </thead>\n",
              "  <tbody>\n",
              "    <tr>\n",
              "      <th>2015-01-01 00:00:00</th>\n",
              "      <td>2014.0</td>\n",
              "      <td>3.400</td>\n",
              "      <td>7.0</td>\n",
              "      <td>6.0</td>\n",
              "      <td>2015.0</td>\n",
              "      <td>2015-01-01 00:00:00</td>\n",
              "    </tr>\n",
              "    <tr>\n",
              "      <th>2015-01-01 00:15:00</th>\n",
              "      <td>NaN</td>\n",
              "      <td>3.325</td>\n",
              "      <td>NaN</td>\n",
              "      <td>NaN</td>\n",
              "      <td>2015.0</td>\n",
              "      <td>2015-01-01 00:15:00</td>\n",
              "    </tr>\n",
              "    <tr>\n",
              "      <th>2015-01-01 00:30:00</th>\n",
              "      <td>NaN</td>\n",
              "      <td>3.250</td>\n",
              "      <td>NaN</td>\n",
              "      <td>NaN</td>\n",
              "      <td>2015.0</td>\n",
              "      <td>2015-01-01 00:30:00</td>\n",
              "    </tr>\n",
              "    <tr>\n",
              "      <th>2015-01-01 00:45:00</th>\n",
              "      <td>NaN</td>\n",
              "      <td>3.175</td>\n",
              "      <td>NaN</td>\n",
              "      <td>NaN</td>\n",
              "      <td>2015.0</td>\n",
              "      <td>2015-01-01 00:45:00</td>\n",
              "    </tr>\n",
              "    <tr>\n",
              "      <th>2015-01-01 01:00:00</th>\n",
              "      <td>2014.0</td>\n",
              "      <td>3.100</td>\n",
              "      <td>7.0</td>\n",
              "      <td>6.0</td>\n",
              "      <td>2015.0</td>\n",
              "      <td>2015-01-01 01:00:00</td>\n",
              "    </tr>\n",
              "    <tr>\n",
              "      <th>...</th>\n",
              "      <td>...</td>\n",
              "      <td>...</td>\n",
              "      <td>...</td>\n",
              "      <td>...</td>\n",
              "      <td>...</td>\n",
              "      <td>...</td>\n",
              "    </tr>\n",
              "    <tr>\n",
              "      <th>2020-02-25 22:00:00</th>\n",
              "      <td>2014.0</td>\n",
              "      <td>3.800</td>\n",
              "      <td>0.0</td>\n",
              "      <td>1.0</td>\n",
              "      <td>2020.0</td>\n",
              "      <td>2020-02-25 22:00:00</td>\n",
              "    </tr>\n",
              "    <tr>\n",
              "      <th>2020-02-25 22:15:00</th>\n",
              "      <td>NaN</td>\n",
              "      <td>3.750</td>\n",
              "      <td>NaN</td>\n",
              "      <td>NaN</td>\n",
              "      <td>2020.0</td>\n",
              "      <td>2020-02-25 22:15:00</td>\n",
              "    </tr>\n",
              "    <tr>\n",
              "      <th>2020-02-25 22:30:00</th>\n",
              "      <td>NaN</td>\n",
              "      <td>3.700</td>\n",
              "      <td>NaN</td>\n",
              "      <td>NaN</td>\n",
              "      <td>2020.0</td>\n",
              "      <td>2020-02-25 22:30:00</td>\n",
              "    </tr>\n",
              "    <tr>\n",
              "      <th>2020-02-25 22:45:00</th>\n",
              "      <td>NaN</td>\n",
              "      <td>3.650</td>\n",
              "      <td>NaN</td>\n",
              "      <td>NaN</td>\n",
              "      <td>2020.0</td>\n",
              "      <td>2020-02-25 22:45:00</td>\n",
              "    </tr>\n",
              "    <tr>\n",
              "      <th>2020-02-25 23:00:00</th>\n",
              "      <td>2014.0</td>\n",
              "      <td>3.600</td>\n",
              "      <td>0.0</td>\n",
              "      <td>1.0</td>\n",
              "      <td>2020.0</td>\n",
              "      <td>2020-02-25 23:00:00</td>\n",
              "    </tr>\n",
              "  </tbody>\n",
              "</table>\n",
              "<p>180669 rows × 6 columns</p>\n",
              "</div>"
            ],
            "text/plain": [
              "                     SDO_ID  value  ...    year                Date\n",
              "time stamp                          ...                            \n",
              "2015-01-01 00:00:00  2014.0  3.400  ...  2015.0 2015-01-01 00:00:00\n",
              "2015-01-01 00:15:00     NaN  3.325  ...  2015.0 2015-01-01 00:15:00\n",
              "2015-01-01 00:30:00     NaN  3.250  ...  2015.0 2015-01-01 00:30:00\n",
              "2015-01-01 00:45:00     NaN  3.175  ...  2015.0 2015-01-01 00:45:00\n",
              "2015-01-01 01:00:00  2014.0  3.100  ...  2015.0 2015-01-01 01:00:00\n",
              "...                     ...    ...  ...     ...                 ...\n",
              "2020-02-25 22:00:00  2014.0  3.800  ...  2020.0 2020-02-25 22:00:00\n",
              "2020-02-25 22:15:00     NaN  3.750  ...  2020.0 2020-02-25 22:15:00\n",
              "2020-02-25 22:30:00     NaN  3.700  ...  2020.0 2020-02-25 22:30:00\n",
              "2020-02-25 22:45:00     NaN  3.650  ...  2020.0 2020-02-25 22:45:00\n",
              "2020-02-25 23:00:00  2014.0  3.600  ...  2020.0 2020-02-25 23:00:00\n",
              "\n",
              "[180669 rows x 6 columns]"
            ]
          },
          "metadata": {
            "tags": []
          },
          "execution_count": 17
        }
      ]
    },
    {
      "cell_type": "code",
      "metadata": {
        "id": "aNfPy_GWd7-N"
      },
      "source": [
        "df1 = df1.reset_index(drop = True)"
      ],
      "execution_count": null,
      "outputs": []
    },
    {
      "cell_type": "code",
      "metadata": {
        "colab": {
          "base_uri": "https://localhost:8080/",
          "height": 234
        },
        "id": "tEm5X4_YccbW",
        "outputId": "9afb62de-d362-44d3-8d0b-7c6c33f456a6"
      },
      "source": [
        "# using groupby to extract lowest temperature for each year, the function idxmin will return the row id which has the lowest min value, using the row id we reteive the date, year and corresponding temperature value\n",
        "# lowest temperature every year\n",
        "df1.loc[df1.reset_index().groupby(['year'])['value'].idxmin()][['Date','year','value']]"
      ],
      "execution_count": null,
      "outputs": [
        {
          "output_type": "execute_result",
          "data": {
            "text/html": [
              "<div>\n",
              "<style scoped>\n",
              "    .dataframe tbody tr th:only-of-type {\n",
              "        vertical-align: middle;\n",
              "    }\n",
              "\n",
              "    .dataframe tbody tr th {\n",
              "        vertical-align: top;\n",
              "    }\n",
              "\n",
              "    .dataframe thead th {\n",
              "        text-align: right;\n",
              "    }\n",
              "</style>\n",
              "<table border=\"1\" class=\"dataframe\">\n",
              "  <thead>\n",
              "    <tr style=\"text-align: right;\">\n",
              "      <th></th>\n",
              "      <th>Date</th>\n",
              "      <th>year</th>\n",
              "      <th>value</th>\n",
              "    </tr>\n",
              "  </thead>\n",
              "  <tbody>\n",
              "    <tr>\n",
              "      <th>3568</th>\n",
              "      <td>2015-02-07 04:00:00</td>\n",
              "      <td>2015.0</td>\n",
              "      <td>-6.6</td>\n",
              "    </tr>\n",
              "    <tr>\n",
              "      <th>37064</th>\n",
              "      <td>2016-01-22 02:00:00</td>\n",
              "      <td>2016.0</td>\n",
              "      <td>-12.0</td>\n",
              "    </tr>\n",
              "    <tr>\n",
              "      <th>70676</th>\n",
              "      <td>2017-01-06 05:00:00</td>\n",
              "      <td>2017.0</td>\n",
              "      <td>-10.5</td>\n",
              "    </tr>\n",
              "    <tr>\n",
              "      <th>111000</th>\n",
              "      <td>2018-03-02 06:00:00</td>\n",
              "      <td>2018.0</td>\n",
              "      <td>-11.8</td>\n",
              "    </tr>\n",
              "    <tr>\n",
              "      <th>142200</th>\n",
              "      <td>2019-01-21 06:00:00</td>\n",
              "      <td>2019.0</td>\n",
              "      <td>-9.0</td>\n",
              "    </tr>\n",
              "    <tr>\n",
              "      <th>175328</th>\n",
              "      <td>2020-01-01 08:00:00</td>\n",
              "      <td>2020.0</td>\n",
              "      <td>-4.6</td>\n",
              "    </tr>\n",
              "  </tbody>\n",
              "</table>\n",
              "</div>"
            ],
            "text/plain": [
              "                      Date    year  value\n",
              "3568   2015-02-07 04:00:00  2015.0   -6.6\n",
              "37064  2016-01-22 02:00:00  2016.0  -12.0\n",
              "70676  2017-01-06 05:00:00  2017.0  -10.5\n",
              "111000 2018-03-02 06:00:00  2018.0  -11.8\n",
              "142200 2019-01-21 06:00:00  2019.0   -9.0\n",
              "175328 2020-01-01 08:00:00  2020.0   -4.6"
            ]
          },
          "metadata": {
            "tags": []
          },
          "execution_count": 19
        }
      ]
    },
    {
      "cell_type": "code",
      "metadata": {
        "colab": {
          "base_uri": "https://localhost:8080/",
          "height": 234
        },
        "id": "6CXnDBbpgTON",
        "outputId": "bcf088c9-3c16-48ac-de49-273ad530133b"
      },
      "source": [
        "# similar to the above explanation but the idxmax will return the row id for maximum value\n",
        "# highest temperature every year\n",
        "df1.loc[df1.reset_index().groupby(['year'])['value'].idxmax()][['Date','year','value']]"
      ],
      "execution_count": null,
      "outputs": [
        {
          "output_type": "execute_result",
          "data": {
            "text/html": [
              "<div>\n",
              "<style scoped>\n",
              "    .dataframe tbody tr th:only-of-type {\n",
              "        vertical-align: middle;\n",
              "    }\n",
              "\n",
              "    .dataframe tbody tr th {\n",
              "        vertical-align: top;\n",
              "    }\n",
              "\n",
              "    .dataframe thead th {\n",
              "        text-align: right;\n",
              "    }\n",
              "</style>\n",
              "<table border=\"1\" class=\"dataframe\">\n",
              "  <thead>\n",
              "    <tr style=\"text-align: right;\">\n",
              "      <th></th>\n",
              "      <th>Date</th>\n",
              "      <th>year</th>\n",
              "      <th>value</th>\n",
              "    </tr>\n",
              "  </thead>\n",
              "  <tbody>\n",
              "    <tr>\n",
              "      <th>17720</th>\n",
              "      <td>2015-07-04 14:00:00</td>\n",
              "      <td>2015.0</td>\n",
              "      <td>36.0</td>\n",
              "    </tr>\n",
              "    <tr>\n",
              "      <th>58136</th>\n",
              "      <td>2016-08-28 14:00:00</td>\n",
              "      <td>2016.0</td>\n",
              "      <td>34.0</td>\n",
              "    </tr>\n",
              "    <tr>\n",
              "      <th>86732</th>\n",
              "      <td>2017-06-22 11:00:00</td>\n",
              "      <td>2017.0</td>\n",
              "      <td>31.9</td>\n",
              "    </tr>\n",
              "    <tr>\n",
              "      <th>126204</th>\n",
              "      <td>2018-08-07 15:00:00</td>\n",
              "      <td>2018.0</td>\n",
              "      <td>35.6</td>\n",
              "    </tr>\n",
              "    <tr>\n",
              "      <th>159988</th>\n",
              "      <td>2019-07-25 13:00:00</td>\n",
              "      <td>2019.0</td>\n",
              "      <td>37.4</td>\n",
              "    </tr>\n",
              "    <tr>\n",
              "      <th>179788</th>\n",
              "      <td>2020-02-16 19:00:00</td>\n",
              "      <td>2020.0</td>\n",
              "      <td>17.7</td>\n",
              "    </tr>\n",
              "  </tbody>\n",
              "</table>\n",
              "</div>"
            ],
            "text/plain": [
              "                      Date    year  value\n",
              "17720  2015-07-04 14:00:00  2015.0   36.0\n",
              "58136  2016-08-28 14:00:00  2016.0   34.0\n",
              "86732  2017-06-22 11:00:00  2017.0   31.9\n",
              "126204 2018-08-07 15:00:00  2018.0   35.6\n",
              "159988 2019-07-25 13:00:00  2019.0   37.4\n",
              "179788 2020-02-16 19:00:00  2020.0   17.7"
            ]
          },
          "metadata": {
            "tags": []
          },
          "execution_count": 20
        }
      ]
    },
    {
      "cell_type": "code",
      "metadata": {
        "colab": {
          "base_uri": "https://localhost:8080/",
          "height": 417
        },
        "id": "TsWT1GPaeJC5",
        "outputId": "23544dbe-f6fc-4ea4-c269-65b99bca35d1"
      },
      "source": [
        "s2015 = df1[df1['year'] == 2015]\n",
        "s2015.sort_values(by='value',ascending=False)"
      ],
      "execution_count": null,
      "outputs": [
        {
          "output_type": "execute_result",
          "data": {
            "text/html": [
              "<div>\n",
              "<style scoped>\n",
              "    .dataframe tbody tr th:only-of-type {\n",
              "        vertical-align: middle;\n",
              "    }\n",
              "\n",
              "    .dataframe tbody tr th {\n",
              "        vertical-align: top;\n",
              "    }\n",
              "\n",
              "    .dataframe thead th {\n",
              "        text-align: right;\n",
              "    }\n",
              "</style>\n",
              "<table border=\"1\" class=\"dataframe\">\n",
              "  <thead>\n",
              "    <tr style=\"text-align: right;\">\n",
              "      <th></th>\n",
              "      <th>SDO_ID</th>\n",
              "      <th>value</th>\n",
              "      <th>Quality_level</th>\n",
              "      <th>Quality_Byte</th>\n",
              "      <th>year</th>\n",
              "      <th>Date</th>\n",
              "    </tr>\n",
              "  </thead>\n",
              "  <tbody>\n",
              "    <tr>\n",
              "      <th>17720</th>\n",
              "      <td>2014.0</td>\n",
              "      <td>36.000</td>\n",
              "      <td>7.0</td>\n",
              "      <td>1.0</td>\n",
              "      <td>2015.0</td>\n",
              "      <td>2015-07-04 14:00:00</td>\n",
              "    </tr>\n",
              "    <tr>\n",
              "      <th>17719</th>\n",
              "      <td>NaN</td>\n",
              "      <td>35.925</td>\n",
              "      <td>NaN</td>\n",
              "      <td>NaN</td>\n",
              "      <td>2015.0</td>\n",
              "      <td>2015-07-04 13:45:00</td>\n",
              "    </tr>\n",
              "    <tr>\n",
              "      <th>17718</th>\n",
              "      <td>NaN</td>\n",
              "      <td>35.850</td>\n",
              "      <td>NaN</td>\n",
              "      <td>NaN</td>\n",
              "      <td>2015.0</td>\n",
              "      <td>2015-07-04 13:30:00</td>\n",
              "    </tr>\n",
              "    <tr>\n",
              "      <th>17717</th>\n",
              "      <td>NaN</td>\n",
              "      <td>35.775</td>\n",
              "      <td>NaN</td>\n",
              "      <td>NaN</td>\n",
              "      <td>2015.0</td>\n",
              "      <td>2015-07-04 13:15:00</td>\n",
              "    </tr>\n",
              "    <tr>\n",
              "      <th>17721</th>\n",
              "      <td>NaN</td>\n",
              "      <td>35.750</td>\n",
              "      <td>NaN</td>\n",
              "      <td>NaN</td>\n",
              "      <td>2015.0</td>\n",
              "      <td>2015-07-04 14:15:00</td>\n",
              "    </tr>\n",
              "    <tr>\n",
              "      <th>...</th>\n",
              "      <td>...</td>\n",
              "      <td>...</td>\n",
              "      <td>...</td>\n",
              "      <td>...</td>\n",
              "      <td>...</td>\n",
              "      <td>...</td>\n",
              "    </tr>\n",
              "    <tr>\n",
              "      <th>3575</th>\n",
              "      <td>NaN</td>\n",
              "      <td>-6.450</td>\n",
              "      <td>NaN</td>\n",
              "      <td>NaN</td>\n",
              "      <td>2015.0</td>\n",
              "      <td>2015-02-07 05:45:00</td>\n",
              "    </tr>\n",
              "    <tr>\n",
              "      <th>3576</th>\n",
              "      <td>2014.0</td>\n",
              "      <td>-6.500</td>\n",
              "      <td>7.0</td>\n",
              "      <td>1.0</td>\n",
              "      <td>2015.0</td>\n",
              "      <td>2015-02-07 06:00:00</td>\n",
              "    </tr>\n",
              "    <tr>\n",
              "      <th>3567</th>\n",
              "      <td>NaN</td>\n",
              "      <td>-6.500</td>\n",
              "      <td>NaN</td>\n",
              "      <td>NaN</td>\n",
              "      <td>2015.0</td>\n",
              "      <td>2015-02-07 03:45:00</td>\n",
              "    </tr>\n",
              "    <tr>\n",
              "      <th>3569</th>\n",
              "      <td>NaN</td>\n",
              "      <td>-6.525</td>\n",
              "      <td>NaN</td>\n",
              "      <td>NaN</td>\n",
              "      <td>2015.0</td>\n",
              "      <td>2015-02-07 04:15:00</td>\n",
              "    </tr>\n",
              "    <tr>\n",
              "      <th>3568</th>\n",
              "      <td>2014.0</td>\n",
              "      <td>-6.600</td>\n",
              "      <td>7.0</td>\n",
              "      <td>1.0</td>\n",
              "      <td>2015.0</td>\n",
              "      <td>2015-02-07 04:00:00</td>\n",
              "    </tr>\n",
              "  </tbody>\n",
              "</table>\n",
              "<p>35040 rows × 6 columns</p>\n",
              "</div>"
            ],
            "text/plain": [
              "       SDO_ID   value  Quality_level  Quality_Byte    year                Date\n",
              "17720  2014.0  36.000            7.0           1.0  2015.0 2015-07-04 14:00:00\n",
              "17719     NaN  35.925            NaN           NaN  2015.0 2015-07-04 13:45:00\n",
              "17718     NaN  35.850            NaN           NaN  2015.0 2015-07-04 13:30:00\n",
              "17717     NaN  35.775            NaN           NaN  2015.0 2015-07-04 13:15:00\n",
              "17721     NaN  35.750            NaN           NaN  2015.0 2015-07-04 14:15:00\n",
              "...       ...     ...            ...           ...     ...                 ...\n",
              "3575      NaN  -6.450            NaN           NaN  2015.0 2015-02-07 05:45:00\n",
              "3576   2014.0  -6.500            7.0           1.0  2015.0 2015-02-07 06:00:00\n",
              "3567      NaN  -6.500            NaN           NaN  2015.0 2015-02-07 03:45:00\n",
              "3569      NaN  -6.525            NaN           NaN  2015.0 2015-02-07 04:15:00\n",
              "3568   2014.0  -6.600            7.0           1.0  2015.0 2015-02-07 04:00:00\n",
              "\n",
              "[35040 rows x 6 columns]"
            ]
          },
          "metadata": {
            "tags": []
          },
          "execution_count": 21
        }
      ]
    },
    {
      "cell_type": "code",
      "metadata": {
        "colab": {
          "base_uri": "https://localhost:8080/",
          "height": 234
        },
        "id": "h92-wEJfcemC",
        "outputId": "8da20b76-e2d2-4041-f777-002aeb9a6cf8"
      },
      "source": [
        "#plot \n",
        "# for plotting the temperature vs time plot, we form a seperate dataframe with highest temperature for each year and its corresponding time of occurence. Similarly we have a dataframe called cold days and use seaborn scatterplot to plot the data\n",
        "hot_days = df1.loc[df1.reset_index().groupby(['year'])['value'].idxmax()][['Date','year','value']]\n",
        "hot_days = hot_days.reset_index(drop=True)\n",
        "hot_days\n"
      ],
      "execution_count": null,
      "outputs": [
        {
          "output_type": "execute_result",
          "data": {
            "text/html": [
              "<div>\n",
              "<style scoped>\n",
              "    .dataframe tbody tr th:only-of-type {\n",
              "        vertical-align: middle;\n",
              "    }\n",
              "\n",
              "    .dataframe tbody tr th {\n",
              "        vertical-align: top;\n",
              "    }\n",
              "\n",
              "    .dataframe thead th {\n",
              "        text-align: right;\n",
              "    }\n",
              "</style>\n",
              "<table border=\"1\" class=\"dataframe\">\n",
              "  <thead>\n",
              "    <tr style=\"text-align: right;\">\n",
              "      <th></th>\n",
              "      <th>Date</th>\n",
              "      <th>year</th>\n",
              "      <th>value</th>\n",
              "    </tr>\n",
              "  </thead>\n",
              "  <tbody>\n",
              "    <tr>\n",
              "      <th>0</th>\n",
              "      <td>2015-07-04 14:00:00</td>\n",
              "      <td>2015.0</td>\n",
              "      <td>36.0</td>\n",
              "    </tr>\n",
              "    <tr>\n",
              "      <th>1</th>\n",
              "      <td>2016-08-28 14:00:00</td>\n",
              "      <td>2016.0</td>\n",
              "      <td>34.0</td>\n",
              "    </tr>\n",
              "    <tr>\n",
              "      <th>2</th>\n",
              "      <td>2017-06-22 11:00:00</td>\n",
              "      <td>2017.0</td>\n",
              "      <td>31.9</td>\n",
              "    </tr>\n",
              "    <tr>\n",
              "      <th>3</th>\n",
              "      <td>2018-08-07 15:00:00</td>\n",
              "      <td>2018.0</td>\n",
              "      <td>35.6</td>\n",
              "    </tr>\n",
              "    <tr>\n",
              "      <th>4</th>\n",
              "      <td>2019-07-25 13:00:00</td>\n",
              "      <td>2019.0</td>\n",
              "      <td>37.4</td>\n",
              "    </tr>\n",
              "    <tr>\n",
              "      <th>5</th>\n",
              "      <td>2020-02-16 19:00:00</td>\n",
              "      <td>2020.0</td>\n",
              "      <td>17.7</td>\n",
              "    </tr>\n",
              "  </tbody>\n",
              "</table>\n",
              "</div>"
            ],
            "text/plain": [
              "                 Date    year  value\n",
              "0 2015-07-04 14:00:00  2015.0   36.0\n",
              "1 2016-08-28 14:00:00  2016.0   34.0\n",
              "2 2017-06-22 11:00:00  2017.0   31.9\n",
              "3 2018-08-07 15:00:00  2018.0   35.6\n",
              "4 2019-07-25 13:00:00  2019.0   37.4\n",
              "5 2020-02-16 19:00:00  2020.0   17.7"
            ]
          },
          "metadata": {
            "tags": []
          },
          "execution_count": 22
        }
      ]
    },
    {
      "cell_type": "code",
      "metadata": {
        "id": "94DGEEHshLsb"
      },
      "source": [
        "hot_days['time of day'] = hot_days.apply(lambda x: x['Date'].hour,axis=1)"
      ],
      "execution_count": null,
      "outputs": []
    },
    {
      "cell_type": "code",
      "metadata": {
        "colab": {
          "base_uri": "https://localhost:8080/",
          "height": 295
        },
        "id": "NFrrauQVhXvm",
        "outputId": "81765dc8-49fb-46cf-867f-7ca5145f6579"
      },
      "source": [
        "import seaborn as sns \n",
        "sns.scatterplot(data=hot_days, x=\"time of day\", y=\"value\",hue='year').set_title(\"Hottest Days\")\n",
        "# sns.set_title('Hottest Days')\n",
        "plt.savefig('sns.scatterplot.jpeg')\n",
        "os.rename('sns.scatterplot.jpeg','Coldest Days.jpeg')\n",
        "files.download(\"Hottest Days.jpeg\")\n",
        "# stores the information into JPEG file and downloads it."
      ],
      "execution_count": null,
      "outputs": [
        {
          "output_type": "display_data",
          "data": {
            "application/javascript": [
              "\n",
              "    async function download(id, filename, size) {\n",
              "      if (!google.colab.kernel.accessAllowed) {\n",
              "        return;\n",
              "      }\n",
              "      const div = document.createElement('div');\n",
              "      const label = document.createElement('label');\n",
              "      label.textContent = `Downloading \"${filename}\": `;\n",
              "      div.appendChild(label);\n",
              "      const progress = document.createElement('progress');\n",
              "      progress.max = size;\n",
              "      div.appendChild(progress);\n",
              "      document.body.appendChild(div);\n",
              "\n",
              "      const buffers = [];\n",
              "      let downloaded = 0;\n",
              "\n",
              "      const channel = await google.colab.kernel.comms.open(id);\n",
              "      // Send a message to notify the kernel that we're ready.\n",
              "      channel.send({})\n",
              "\n",
              "      for await (const message of channel.messages) {\n",
              "        // Send a message to notify the kernel that we're ready.\n",
              "        channel.send({})\n",
              "        if (message.buffers) {\n",
              "          for (const buffer of message.buffers) {\n",
              "            buffers.push(buffer);\n",
              "            downloaded += buffer.byteLength;\n",
              "            progress.value = downloaded;\n",
              "          }\n",
              "        }\n",
              "      }\n",
              "      const blob = new Blob(buffers, {type: 'application/binary'});\n",
              "      const a = document.createElement('a');\n",
              "      a.href = window.URL.createObjectURL(blob);\n",
              "      a.download = filename;\n",
              "      div.appendChild(a);\n",
              "      a.click();\n",
              "      div.remove();\n",
              "    }\n",
              "  "
            ],
            "text/plain": [
              "<IPython.core.display.Javascript object>"
            ]
          },
          "metadata": {
            "tags": []
          }
        },
        {
          "output_type": "display_data",
          "data": {
            "application/javascript": [
              "download(\"download_9f605e1c-eabb-46ac-9393-389b9803f29d\", \"Hottest Days.jpeg\", 19613)"
            ],
            "text/plain": [
              "<IPython.core.display.Javascript object>"
            ]
          },
          "metadata": {
            "tags": []
          }
        },
        {
          "output_type": "display_data",
          "data": {
            "image/png": "[encoded data removed]",
            "text/plain": [
              "<Figure size 432x288 with 1 Axes>"
            ]
          },
          "metadata": {
            "tags": [],
            "needs_background": "light"
          }
        }
      ]
    },
    {
      "cell_type": "code",
      "metadata": {
        "colab": {
          "base_uri": "https://localhost:8080/",
          "height": 234
        },
        "id": "Nel7nC76keNT",
        "outputId": "75993265-d936-4ca2-96d4-90286f5278b7"
      },
      "source": [
        "cold_days = df1.loc[df1.reset_index().groupby(['year'])['value'].idxmin()][['Date','year','value']]\n",
        "cold_days = cold_days.reset_index(drop=True)\n",
        "cold_days"
      ],
      "execution_count": null,
      "outputs": [
        {
          "output_type": "execute_result",
          "data": {
            "text/html": [
              "<div>\n",
              "<style scoped>\n",
              "    .dataframe tbody tr th:only-of-type {\n",
              "        vertical-align: middle;\n",
              "    }\n",
              "\n",
              "    .dataframe tbody tr th {\n",
              "        vertical-align: top;\n",
              "    }\n",
              "\n",
              "    .dataframe thead th {\n",
              "        text-align: right;\n",
              "    }\n",
              "</style>\n",
              "<table border=\"1\" class=\"dataframe\">\n",
              "  <thead>\n",
              "    <tr style=\"text-align: right;\">\n",
              "      <th></th>\n",
              "      <th>Date</th>\n",
              "      <th>year</th>\n",
              "      <th>value</th>\n",
              "    </tr>\n",
              "  </thead>\n",
              "  <tbody>\n",
              "    <tr>\n",
              "      <th>0</th>\n",
              "      <td>2015-02-07 04:00:00</td>\n",
              "      <td>2015.0</td>\n",
              "      <td>-6.6</td>\n",
              "    </tr>\n",
              "    <tr>\n",
              "      <th>1</th>\n",
              "      <td>2016-01-22 02:00:00</td>\n",
              "      <td>2016.0</td>\n",
              "      <td>-12.0</td>\n",
              "    </tr>\n",
              "    <tr>\n",
              "      <th>2</th>\n",
              "      <td>2017-01-06 05:00:00</td>\n",
              "      <td>2017.0</td>\n",
              "      <td>-10.5</td>\n",
              "    </tr>\n",
              "    <tr>\n",
              "      <th>3</th>\n",
              "      <td>2018-03-02 06:00:00</td>\n",
              "      <td>2018.0</td>\n",
              "      <td>-11.8</td>\n",
              "    </tr>\n",
              "    <tr>\n",
              "      <th>4</th>\n",
              "      <td>2019-01-21 06:00:00</td>\n",
              "      <td>2019.0</td>\n",
              "      <td>-9.0</td>\n",
              "    </tr>\n",
              "    <tr>\n",
              "      <th>5</th>\n",
              "      <td>2020-01-01 08:00:00</td>\n",
              "      <td>2020.0</td>\n",
              "      <td>-4.6</td>\n",
              "    </tr>\n",
              "  </tbody>\n",
              "</table>\n",
              "</div>"
            ],
            "text/plain": [
              "                 Date    year  value\n",
              "0 2015-02-07 04:00:00  2015.0   -6.6\n",
              "1 2016-01-22 02:00:00  2016.0  -12.0\n",
              "2 2017-01-06 05:00:00  2017.0  -10.5\n",
              "3 2018-03-02 06:00:00  2018.0  -11.8\n",
              "4 2019-01-21 06:00:00  2019.0   -9.0\n",
              "5 2020-01-01 08:00:00  2020.0   -4.6"
            ]
          },
          "metadata": {
            "tags": []
          },
          "execution_count": 47
        }
      ]
    },
    {
      "cell_type": "code",
      "metadata": {
        "id": "90UI2NHwkjYe"
      },
      "source": [
        "cold_days['time of day'] = cold_days.apply(lambda x: x['Date'].hour,axis=1)"
      ],
      "execution_count": null,
      "outputs": []
    },
    {
      "cell_type": "code",
      "metadata": {
        "colab": {
          "base_uri": "https://localhost:8080/",
          "height": 295
        },
        "id": "xwcAGQSYkmxK",
        "outputId": "5c649bef-ad55-4eb8-d5ed-9ee69c34ae1c"
      },
      "source": [
        "sns.scatterplot(data=cold_days, x=\"time of day\", y=\"value\",hue='year').set_title(\"Coldest Days\")\n",
        "plt.savefig('sns.scatterplot.jpeg')\n",
        "os.rename('sns.scatterplot.jpeg','Coldest Days.jpeg')\n",
        "files.download(\"Coldest Days.jpeg\")\n",
        "# stores the information into JPEG file and downloads it."
      ],
      "execution_count": null,
      "outputs": [
        {
          "output_type": "display_data",
          "data": {
            "application/javascript": [
              "\n",
              "    async function download(id, filename, size) {\n",
              "      if (!google.colab.kernel.accessAllowed) {\n",
              "        return;\n",
              "      }\n",
              "      const div = document.createElement('div');\n",
              "      const label = document.createElement('label');\n",
              "      label.textContent = `Downloading \"${filename}\": `;\n",
              "      div.appendChild(label);\n",
              "      const progress = document.createElement('progress');\n",
              "      progress.max = size;\n",
              "      div.appendChild(progress);\n",
              "      document.body.appendChild(div);\n",
              "\n",
              "      const buffers = [];\n",
              "      let downloaded = 0;\n",
              "\n",
              "      const channel = await google.colab.kernel.comms.open(id);\n",
              "      // Send a message to notify the kernel that we're ready.\n",
              "      channel.send({})\n",
              "\n",
              "      for await (const message of channel.messages) {\n",
              "        // Send a message to notify the kernel that we're ready.\n",
              "        channel.send({})\n",
              "        if (message.buffers) {\n",
              "          for (const buffer of message.buffers) {\n",
              "            buffers.push(buffer);\n",
              "            downloaded += buffer.byteLength;\n",
              "            progress.value = downloaded;\n",
              "          }\n",
              "        }\n",
              "      }\n",
              "      const blob = new Blob(buffers, {type: 'application/binary'});\n",
              "      const a = document.createElement('a');\n",
              "      a.href = window.URL.createObjectURL(blob);\n",
              "      a.download = filename;\n",
              "      div.appendChild(a);\n",
              "      a.click();\n",
              "      div.remove();\n",
              "    }\n",
              "  "
            ],
            "text/plain": [
              "<IPython.core.display.Javascript object>"
            ]
          },
          "metadata": {
            "tags": []
          }
        },
        {
          "output_type": "display_data",
          "data": {
            "application/javascript": [
              "download(\"download_b0a54de6-892e-4c9d-98d4-3fa59cd46388\", \"Coldest Days.jpeg\", 17657)"
            ],
            "text/plain": [
              "<IPython.core.display.Javascript object>"
            ]
          },
          "metadata": {
            "tags": []
          }
        },
        {
          "output_type": "display_data",
          "data": {
            "image/png": "[encoded data removed]",
            "text/plain": [
              "<Figure size 432x288 with 1 Axes>"
            ]
          },
          "metadata": {
            "tags": [],
            "needs_background": "light"
          }
        }
      ]
    },
    {
      "cell_type": "code",
      "metadata": {
        "id": "emlCmlqVkt0q",
        "colab": {
          "base_uri": "https://localhost:8080/",
          "height": 203
        },
        "outputId": "ddfe1c9e-1c01-4e32-ae7d-e47b275dc69f"
      },
      "source": [
        "# more analysis\n",
        "df1['Year'] = df1['Date'].astype(str).str[0:4]\n",
        "df1['Month'] = df1['Date'].astype(str).str.slice(5,7)\n",
        "df1.head()"
      ],
      "execution_count": null,
      "outputs": [
        {
          "output_type": "execute_result",
          "data": {
            "text/html": [
              "<div>\n",
              "<style scoped>\n",
              "    .dataframe tbody tr th:only-of-type {\n",
              "        vertical-align: middle;\n",
              "    }\n",
              "\n",
              "    .dataframe tbody tr th {\n",
              "        vertical-align: top;\n",
              "    }\n",
              "\n",
              "    .dataframe thead th {\n",
              "        text-align: right;\n",
              "    }\n",
              "</style>\n",
              "<table border=\"1\" class=\"dataframe\">\n",
              "  <thead>\n",
              "    <tr style=\"text-align: right;\">\n",
              "      <th></th>\n",
              "      <th>SDO_ID</th>\n",
              "      <th>value</th>\n",
              "      <th>Quality_level</th>\n",
              "      <th>Quality_Byte</th>\n",
              "      <th>year</th>\n",
              "      <th>Date</th>\n",
              "      <th>Year</th>\n",
              "      <th>Month</th>\n",
              "    </tr>\n",
              "  </thead>\n",
              "  <tbody>\n",
              "    <tr>\n",
              "      <th>0</th>\n",
              "      <td>2014.0</td>\n",
              "      <td>3.400</td>\n",
              "      <td>7.0</td>\n",
              "      <td>6.0</td>\n",
              "      <td>2015.0</td>\n",
              "      <td>2015-01-01 00:00:00</td>\n",
              "      <td>2015</td>\n",
              "      <td>01</td>\n",
              "    </tr>\n",
              "    <tr>\n",
              "      <th>1</th>\n",
              "      <td>NaN</td>\n",
              "      <td>3.325</td>\n",
              "      <td>NaN</td>\n",
              "      <td>NaN</td>\n",
              "      <td>2015.0</td>\n",
              "      <td>2015-01-01 00:15:00</td>\n",
              "      <td>2015</td>\n",
              "      <td>01</td>\n",
              "    </tr>\n",
              "    <tr>\n",
              "      <th>2</th>\n",
              "      <td>NaN</td>\n",
              "      <td>3.250</td>\n",
              "      <td>NaN</td>\n",
              "      <td>NaN</td>\n",
              "      <td>2015.0</td>\n",
              "      <td>2015-01-01 00:30:00</td>\n",
              "      <td>2015</td>\n",
              "      <td>01</td>\n",
              "    </tr>\n",
              "    <tr>\n",
              "      <th>3</th>\n",
              "      <td>NaN</td>\n",
              "      <td>3.175</td>\n",
              "      <td>NaN</td>\n",
              "      <td>NaN</td>\n",
              "      <td>2015.0</td>\n",
              "      <td>2015-01-01 00:45:00</td>\n",
              "      <td>2015</td>\n",
              "      <td>01</td>\n",
              "    </tr>\n",
              "    <tr>\n",
              "      <th>4</th>\n",
              "      <td>2014.0</td>\n",
              "      <td>3.100</td>\n",
              "      <td>7.0</td>\n",
              "      <td>6.0</td>\n",
              "      <td>2015.0</td>\n",
              "      <td>2015-01-01 01:00:00</td>\n",
              "      <td>2015</td>\n",
              "      <td>01</td>\n",
              "    </tr>\n",
              "  </tbody>\n",
              "</table>\n",
              "</div>"
            ],
            "text/plain": [
              "   SDO_ID  value  Quality_level  ...                Date  Year Month\n",
              "0  2014.0  3.400            7.0  ... 2015-01-01 00:00:00  2015    01\n",
              "1     NaN  3.325            NaN  ... 2015-01-01 00:15:00  2015    01\n",
              "2     NaN  3.250            NaN  ... 2015-01-01 00:30:00  2015    01\n",
              "3     NaN  3.175            NaN  ... 2015-01-01 00:45:00  2015    01\n",
              "4  2014.0  3.100            7.0  ... 2015-01-01 01:00:00  2015    01\n",
              "\n",
              "[5 rows x 8 columns]"
            ]
          },
          "metadata": {
            "tags": []
          },
          "execution_count": 38
        }
      ]
    },
    {
      "cell_type": "code",
      "metadata": {
        "colab": {
          "base_uri": "https://localhost:8080/",
          "height": 203
        },
        "id": "LGhmhVN1sIEY",
        "outputId": "2c071a85-9655-454d-c80c-0713d707ca5d"
      },
      "source": [
        "# df1.year = df1.year.apply(lambda x: str(x))\n",
        "df1['month_year'] = pd.to_datetime((df1.Year+df1.Month),format='%Y%m').dt.strftime('%Y-%b')\n",
        "df1.head()"
      ],
      "execution_count": null,
      "outputs": [
        {
          "output_type": "execute_result",
          "data": {
            "text/html": [
              "<div>\n",
              "<style scoped>\n",
              "    .dataframe tbody tr th:only-of-type {\n",
              "        vertical-align: middle;\n",
              "    }\n",
              "\n",
              "    .dataframe tbody tr th {\n",
              "        vertical-align: top;\n",
              "    }\n",
              "\n",
              "    .dataframe thead th {\n",
              "        text-align: right;\n",
              "    }\n",
              "</style>\n",
              "<table border=\"1\" class=\"dataframe\">\n",
              "  <thead>\n",
              "    <tr style=\"text-align: right;\">\n",
              "      <th></th>\n",
              "      <th>SDO_ID</th>\n",
              "      <th>value</th>\n",
              "      <th>Quality_level</th>\n",
              "      <th>Quality_Byte</th>\n",
              "      <th>year</th>\n",
              "      <th>Date</th>\n",
              "      <th>Year</th>\n",
              "      <th>Month</th>\n",
              "      <th>month_year</th>\n",
              "    </tr>\n",
              "  </thead>\n",
              "  <tbody>\n",
              "    <tr>\n",
              "      <th>0</th>\n",
              "      <td>2014.0</td>\n",
              "      <td>3.400</td>\n",
              "      <td>7.0</td>\n",
              "      <td>6.0</td>\n",
              "      <td>2015.0</td>\n",
              "      <td>2015-01-01 00:00:00</td>\n",
              "      <td>2015</td>\n",
              "      <td>01</td>\n",
              "      <td>2015-Jan</td>\n",
              "    </tr>\n",
              "    <tr>\n",
              "      <th>1</th>\n",
              "      <td>NaN</td>\n",
              "      <td>3.325</td>\n",
              "      <td>NaN</td>\n",
              "      <td>NaN</td>\n",
              "      <td>2015.0</td>\n",
              "      <td>2015-01-01 00:15:00</td>\n",
              "      <td>2015</td>\n",
              "      <td>01</td>\n",
              "      <td>2015-Jan</td>\n",
              "    </tr>\n",
              "    <tr>\n",
              "      <th>2</th>\n",
              "      <td>NaN</td>\n",
              "      <td>3.250</td>\n",
              "      <td>NaN</td>\n",
              "      <td>NaN</td>\n",
              "      <td>2015.0</td>\n",
              "      <td>2015-01-01 00:30:00</td>\n",
              "      <td>2015</td>\n",
              "      <td>01</td>\n",
              "      <td>2015-Jan</td>\n",
              "    </tr>\n",
              "    <tr>\n",
              "      <th>3</th>\n",
              "      <td>NaN</td>\n",
              "      <td>3.175</td>\n",
              "      <td>NaN</td>\n",
              "      <td>NaN</td>\n",
              "      <td>2015.0</td>\n",
              "      <td>2015-01-01 00:45:00</td>\n",
              "      <td>2015</td>\n",
              "      <td>01</td>\n",
              "      <td>2015-Jan</td>\n",
              "    </tr>\n",
              "    <tr>\n",
              "      <th>4</th>\n",
              "      <td>2014.0</td>\n",
              "      <td>3.100</td>\n",
              "      <td>7.0</td>\n",
              "      <td>6.0</td>\n",
              "      <td>2015.0</td>\n",
              "      <td>2015-01-01 01:00:00</td>\n",
              "      <td>2015</td>\n",
              "      <td>01</td>\n",
              "      <td>2015-Jan</td>\n",
              "    </tr>\n",
              "  </tbody>\n",
              "</table>\n",
              "</div>"
            ],
            "text/plain": [
              "   SDO_ID  value  Quality_level  ...  Year  Month month_year\n",
              "0  2014.0  3.400            7.0  ...  2015     01   2015-Jan\n",
              "1     NaN  3.325            NaN  ...  2015     01   2015-Jan\n",
              "2     NaN  3.250            NaN  ...  2015     01   2015-Jan\n",
              "3     NaN  3.175            NaN  ...  2015     01   2015-Jan\n",
              "4  2014.0  3.100            7.0  ...  2015     01   2015-Jan\n",
              "\n",
              "[5 rows x 9 columns]"
            ]
          },
          "metadata": {
            "tags": []
          },
          "execution_count": 39
        }
      ]
    },
    {
      "cell_type": "code",
      "metadata": {
        "id": "eqZJu9_MsVQT"
      },
      "source": [
        "df1['Date_conv'] = pd.to_datetime((df1.month_year),format='%Y-%b')"
      ],
      "execution_count": null,
      "outputs": []
    },
    {
      "cell_type": "code",
      "metadata": {
        "colab": {
          "base_uri": "https://localhost:8080/",
          "height": 254
        },
        "id": "saLIylc5tp72",
        "outputId": "c01fc221-18f0-45fa-ddc3-726903e2c8ce"
      },
      "source": [
        "df_mean = pd.DataFrame(df1.groupby(['Date_conv'], sort=True)[\"value\"].mean())\n",
        "df_mean.head(6)"
      ],
      "execution_count": null,
      "outputs": [
        {
          "output_type": "execute_result",
          "data": {
            "text/html": [
              "<div>\n",
              "<style scoped>\n",
              "    .dataframe tbody tr th:only-of-type {\n",
              "        vertical-align: middle;\n",
              "    }\n",
              "\n",
              "    .dataframe tbody tr th {\n",
              "        vertical-align: top;\n",
              "    }\n",
              "\n",
              "    .dataframe thead th {\n",
              "        text-align: right;\n",
              "    }\n",
              "</style>\n",
              "<table border=\"1\" class=\"dataframe\">\n",
              "  <thead>\n",
              "    <tr style=\"text-align: right;\">\n",
              "      <th></th>\n",
              "      <th>value</th>\n",
              "    </tr>\n",
              "    <tr>\n",
              "      <th>Date_conv</th>\n",
              "      <th></th>\n",
              "    </tr>\n",
              "  </thead>\n",
              "  <tbody>\n",
              "    <tr>\n",
              "      <th>2015-01-01</th>\n",
              "      <td>3.298656</td>\n",
              "    </tr>\n",
              "    <tr>\n",
              "      <th>2015-02-01</th>\n",
              "      <td>2.333464</td>\n",
              "    </tr>\n",
              "    <tr>\n",
              "      <th>2015-03-01</th>\n",
              "      <td>5.757644</td>\n",
              "    </tr>\n",
              "    <tr>\n",
              "      <th>2015-04-01</th>\n",
              "      <td>8.640382</td>\n",
              "    </tr>\n",
              "    <tr>\n",
              "      <th>2015-05-01</th>\n",
              "      <td>12.142154</td>\n",
              "    </tr>\n",
              "    <tr>\n",
              "      <th>2015-06-01</th>\n",
              "      <td>15.742743</td>\n",
              "    </tr>\n",
              "  </tbody>\n",
              "</table>\n",
              "</div>"
            ],
            "text/plain": [
              "                value\n",
              "Date_conv            \n",
              "2015-01-01   3.298656\n",
              "2015-02-01   2.333464\n",
              "2015-03-01   5.757644\n",
              "2015-04-01   8.640382\n",
              "2015-05-01  12.142154\n",
              "2015-06-01  15.742743"
            ]
          },
          "metadata": {
            "tags": []
          },
          "execution_count": 129
        }
      ]
    },
    {
      "cell_type": "code",
      "metadata": {
        "colab": {
          "base_uri": "https://localhost:8080/",
          "height": 518
        },
        "id": "pu653zIFttm-",
        "outputId": "9b5b2063-0a8c-4fdf-b573-40a2f21c3ce0"
      },
      "source": [
        "import matplotlib.pyplot as plt \n",
        "import numpy as np\n",
        "import matplotlib as mpl\n",
        "\n",
        "\n",
        "\n",
        "fig = plt.figure(figsize=(15,8))\n",
        "# plt.plot( kind='line', figsize=(15,8))\n",
        "plt.plot(df_mean.index,df_mean.value)\n",
        "plt.title(\"Temprature pattern over the years\")\n",
        "# plt.gca().xaxis.set_major_formatter(mdates.DateFormatter('%Y-%m'))\n",
        "plt.gca().xaxis.set_major_locator(mpl.dates.MonthLocator(interval = 3))\n",
        "plt.gca().xaxis.set_major_formatter(mpl.dates.DateFormatter('%Y-%m'))\n",
        "\n",
        "plt.tick_params(rotation=30, axis='x')"
      ],
      "execution_count": null,
      "outputs": [
        {
          "output_type": "display_data",
          "data": {
            "image/png": "[encoded data removed]",
            "text/plain": [
              "<Figure size 1080x576 with 1 Axes>"
            ]
          },
          "metadata": {
            "tags": [],
            "needs_background": "light"
          }
        }
      ]
    },
    {
      "cell_type": "markdown",
      "metadata": {
        "id": "T1FMngvAxKf4"
      },
      "source": [
        "Analysis:\n",
        "\n",
        "We can see that the pattern of temperature is different for each year. The interesting observation here is in the year 2015 we see the peak temperatures were during june and july and it falls down for august but as the years passed we can see that the summer is longer, in 2019 we can see that summer was from May - August and then the temperature gradually has decreased. It is also observed that the 2019 summers were having two peaks."
      ]
    },
    {
      "cell_type": "code",
      "metadata": {
        "id": "GmdY8XnVxt4g"
      },
      "source": [
        ""
      ],
      "execution_count": null,
      "outputs": []
    },
    {
      "cell_type": "code",
      "metadata": {
        "id": "bmmW23FXtwwF"
      },
      "source": [
        ""
      ],
      "execution_count": null,
      "outputs": []
    }
  ]
}